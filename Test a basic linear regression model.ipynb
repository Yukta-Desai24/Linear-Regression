{
 "cells": [
  {
   "cell_type": "code",
   "execution_count": 1,
   "id": "6c242dc7",
   "metadata": {},
   "outputs": [],
   "source": [
    "import pandas as pd\n",
    "import numpy as np\n",
    "import statsmodels.api as sm\n",
    "import statsmodels.formula.api as smf\n",
    "import seaborn as sns\n",
    "import matplotlib.pyplot as plt"
   ]
  },
  {
   "cell_type": "code",
   "execution_count": 2,
   "id": "bcc6c0df",
   "metadata": {},
   "outputs": [],
   "source": [
    "data = pd.read_csv(\"gapminder.CSV\")"
   ]
  },
  {
   "cell_type": "code",
   "execution_count": null,
   "id": "745f9448",
   "metadata": {},
   "outputs": [],
   "source": []
  },
  {
   "cell_type": "markdown",
   "id": "20c042ff",
   "metadata": {},
   "source": [
    "Response variable = Internet use rate\n",
    "Explanatory variable = Urbanization rate"
   ]
  },
  {
   "cell_type": "code",
   "execution_count": 3,
   "id": "8c16e7f1",
   "metadata": {},
   "outputs": [],
   "source": [
    "#setting variables you will be working with to numeric\n",
    "# convert variables to numeric format using convert_objects function\n",
    "\n",
    "data['internetuserate'] = pd.to_numeric(data['internetuserate'], errors='coerce')\n",
    "data['urbanrate'] = pd.to_numeric(data['urbanrate'], errors='coerce')"
   ]
  },
  {
   "cell_type": "code",
   "execution_count": null,
   "id": "0af37267",
   "metadata": {},
   "outputs": [],
   "source": []
  },
  {
   "cell_type": "code",
   "execution_count": 4,
   "id": "5205d549",
   "metadata": {},
   "outputs": [],
   "source": [
    "# BASIC LINEAR REGRESSION"
   ]
  },
  {
   "cell_type": "code",
   "execution_count": 5,
   "id": "591ca287",
   "metadata": {},
   "outputs": [
    {
     "name": "stdout",
     "output_type": "stream",
     "text": [
      "AxesSubplot(0.125,0.125;0.775x0.755)\n"
     ]
    },
    {
     "data": {
      "image/png": "[encoded data removed]",
      "text/plain": [
       "<Figure size 432x288 with 1 Axes>"
      ]
     },
     "metadata": {
      "needs_background": "light"
     },
     "output_type": "display_data"
    }
   ],
   "source": [
    "plot1 = sns.regplot(x=\"urbanrate\", y=\"internetuserate\", scatter=True, data=data)\n",
    "plt.xlabel('Urbanization Rate')\n",
    "plt.ylabel('Internet Use Rate')\n",
    "plt.title ('Scatterplot for the Association Between Urban Rate and Internet Use Rate')\n",
    "print(plot1)"
   ]
  },
  {
   "cell_type": "code",
   "execution_count": null,
   "id": "b680fdb7",
   "metadata": {},
   "outputs": [],
   "source": []
  },
  {
   "cell_type": "code",
   "execution_count": 6,
   "id": "7fdcde6d",
   "metadata": {
    "scrolled": true
   },
   "outputs": [
    {
     "name": "stdout",
     "output_type": "stream",
     "text": [
      "OLS regression model for the association between urban rate and internet use rate\n",
      "                            OLS Regression Results                            \n",
      "==============================================================================\n",
      "Dep. Variable:        internetuserate   R-squared:                       0.377\n",
      "Model:                            OLS   Adj. R-squared:                  0.374\n",
      "Method:                 Least Squares   F-statistic:                     113.7\n",
      "Date:                Thu, 03 Mar 2022   Prob (F-statistic):           4.56e-21\n",
      "Time:                        19:03:24   Log-Likelihood:                -856.14\n",
      "No. Observations:                 190   AIC:                             1716.\n",
      "Df Residuals:                     188   BIC:                             1723.\n",
      "Df Model:                           1                                         \n",
      "Covariance Type:            nonrobust                                         \n",
      "==============================================================================\n",
      "                 coef    std err          t      P>|t|      [0.025      0.975]\n",
      "------------------------------------------------------------------------------\n",
      "Intercept     -4.9037      4.115     -1.192      0.235     -13.021       3.213\n",
      "urbanrate      0.7202      0.068     10.665      0.000       0.587       0.853\n",
      "==============================================================================\n",
      "Omnibus:                       10.750   Durbin-Watson:                   2.097\n",
      "Prob(Omnibus):                  0.005   Jarque-Bera (JB):               10.990\n",
      "Skew:                           0.574   Prob(JB):                      0.00411\n",
      "Kurtosis:                       3.262   Cond. No.                         157.\n",
      "==============================================================================\n",
      "\n",
      "Notes:\n",
      "[1] Standard Errors assume that the covariance matrix of the errors is correctly specified.\n"
     ]
    }
   ],
   "source": [
    "print('OLS regression model for the association between urban rate and internet use rate')\n",
    "\n",
    "reg1 = smf.ols('internetuserate ~ urbanrate', data=data).fit()\n",
    "print(reg1.summary())"
   ]
  },
  {
   "cell_type": "markdown",
   "id": "f044ea17",
   "metadata": {},
   "source": [
    "**Equation for the best fit line of the graph is:**\n",
    "\n",
    "INTERNETUSERATE = -4.9037 + 0.7202 * URBANRATE"
   ]
  },
  {
   "cell_type": "markdown",
   "id": "daef8872",
   "metadata": {},
   "source": [
    "**Urban rate is significantly associated with internet use rate**\n",
    "\n",
    "(beta = 0.7202, p-value = 0.000)"
   ]
  }
 ],
 "metadata": {
  "kernelspec": {
   "display_name": "Python 3",
   "language": "python",
   "name": "python3"
  },
  "language_info": {
   "codemirror_mode": {
    "name": "ipython",
    "version": 3
   },
   "file_extension": ".py",
   "mimetype": "text/x-python",
   "name": "python",
   "nbconvert_exporter": "python",
   "pygments_lexer": "ipython3",
   "version": "3.8.8"
  }
 },
 "nbformat": 4,
 "nbformat_minor": 5
}
